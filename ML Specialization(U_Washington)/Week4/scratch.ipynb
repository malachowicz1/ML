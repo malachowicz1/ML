{
 "cells": [
  {
   "cell_type": "code",
   "execution_count": 7,
   "id": "76d3b810",
   "metadata": {},
   "outputs": [],
   "source": [
    "import turicreate\n",
    "text=turicreate.SArray(['the wheels on the bus go round and round.'])"
   ]
  },
  {
   "cell_type": "code",
   "execution_count": 9,
   "id": "dfa7d98a",
   "metadata": {},
   "outputs": [
    {
     "data": {
      "text/plain": [
       "dtype: dict\n",
       "Rows: 1\n",
       "[{'and': 1.0, 'go': 1.0, 'bus': 1.0, 'on': 1.0, 'round': 2.0, 'wheels': 1.0, 'the': 2.0}]"
      ]
     },
     "execution_count": 9,
     "metadata": {},
     "output_type": "execute_result"
    }
   ],
   "source": [
    "turicreate.text_analytics.count_words(text)"
   ]
  },
  {
   "cell_type": "code",
   "execution_count": null,
   "id": "7461fd2e",
   "metadata": {},
   "outputs": [],
   "source": []
  }
 ],
 "metadata": {
  "kernelspec": {
   "display_name": "Python 3.8.5 64-bit ('base': conda)",
   "language": "python",
   "name": "python385jvsc74a57bd040d3a090f54c6569ab1632332b64b2c03c39dcf918b08424e98f38b5ae0af88f"
  },
  "language_info": {
   "codemirror_mode": {
    "name": "ipython",
    "version": 3
   },
   "file_extension": ".py",
   "mimetype": "text/x-python",
   "name": "python",
   "nbconvert_exporter": "python",
   "pygments_lexer": "ipython3",
   "version": "3.8.5"
  }
 },
 "nbformat": 4,
 "nbformat_minor": 5
}
